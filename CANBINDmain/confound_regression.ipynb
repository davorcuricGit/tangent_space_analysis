{
 "cells": [
  {
   "cell_type": "code",
   "execution_count": 46,
   "metadata": {},
   "outputs": [
    {
     "data": {
      "text/plain": [
       "<module 'TSAfuncs' from 'D:\\\\PhD/tangent_space_analysis\\\\TSAfuncs.py'>"
      ]
     },
     "execution_count": 46,
     "metadata": {},
     "output_type": "execute_result"
    }
   ],
   "source": [
    "import importlib\n",
    "import sys\n",
    "import pandas as pd\n",
    "import scipy.io\n",
    "import h5py\n",
    "import numpy as np\n",
    "from sklearn.linear_model import LinearRegression\n",
    "import matplotlib.pyplot as plt\n",
    "from scipy.stats import pearsonr\n",
    "from scipy.stats import zscore\n",
    "\n",
    "\n",
    "\n",
    "sys.path.insert(0, \"D:/PhD/tangent_space_analysis/\")\n",
    "                \n",
    "import TSAfuncs as tsa\n",
    "importlib.reload(tsa)"
   ]
  },
  {
   "cell_type": "code",
   "execution_count": 33,
   "metadata": {},
   "outputs": [],
   "source": [
    "ROI = scipy.io.loadmat('filteredROI.mat')\n",
    "ROI = ROI['ROItokeep']\n",
    "nparcels = [100, 400, 1000]\n",
    "ROI_to_keep = dict()\n",
    "for i,n in enumerate(nparcels):\n",
    "    ROI_to_keep[n] = ROI[0][i][0]"
   ]
  },
  {
   "cell_type": "code",
   "execution_count": 54,
   "metadata": {},
   "outputs": [],
   "source": [
    "df = pd.read_csv('allRecordings.csv')\n",
    "\n",
    "#df['filepath'] = df['filepath'].str.replace(\"/scratch2/DavorCuric\", \"D:\\PhD\\CANBIND\")\n",
    "nparcels= 100\n",
    "df = df[df['numparcels'] == nparcels]\n",
    "df = df.dropna(how = 'any')\n",
    "df.reset_index(drop = True, inplace = True)\n",
    "bold_data = np.zeros([np.shape(df)[0], len(ROI_to_keep[nparcels]), 298])\n",
    "\n",
    "for index,row in df.iterrows():\n",
    "    filename = row['filepath'] +'/' + row['filename']\n",
    "    filename = filename.replace( '/scratch2/DavorCuric/CANBIND/' ,\"D:/PhD/CANBIND/\")\n",
    "        \n",
    "    with h5py.File(filename, 'r') as f:\n",
    "        ts = np.transpose(np.array(f['parc_data']))#scipy.io.loadmat(filename)\n",
    "    ts = ts[ROI_to_keep[nparcels]-1,:] #ROI to keep was importet from matlab so include the -1 to get correct index\n",
    "    bold_data[index, :,:] = ts\n",
    "    \n"
   ]
  },
  {
   "cell_type": "code",
   "execution_count": 55,
   "metadata": {},
   "outputs": [],
   "source": [
    "confounds = pd.get_dummies(df['subject'], drop_first=True)\n",
    "confounds_matrix = confounds.values"
   ]
  },
  {
   "cell_type": "code",
   "execution_count": 67,
   "metadata": {},
   "outputs": [],
   "source": [
    "bold_corrected = np.zeros_like(bold_data)\n",
    "\n",
    "for roi in range(bold_data.shape[1]):\n",
    "    y = bold_data[:, roi, :]\n",
    "    reg = LinearRegression()\n",
    "    reg.fit(confounds_matrix, y)\n",
    "    residuals = y - 1*reg.predict(confounds_matrix)\n",
    "    bold_corrected[:,roi,:] = residuals\n",
    "    \n"
   ]
  },
  {
   "cell_type": "code",
   "execution_count": null,
   "metadata": {},
   "outputs": [],
   "source": [
    "FCs = list()\n",
    "for index,row in df.iterrows():\n",
    "    ts = zscore(bold_corrected[index,:,:], axis = 1)\n",
    "    fc = np.corrcoef(ts)\n",
    "    \n",
    "    subject_id = str(row['subject'])\n",
    "    state = int(row['controls'])*'controls' + int(row['nonresponders'])*'nonresponders' + int(row['responders'])*'responders'\n",
    "    session = row['session']\n",
    "\n",
    "    if state == 'controls':\n",
    "        continue\n",
    "    if state == '':\n",
    "        continue\n",
    "\n",
    "    FCs.append(tsa.FC(np.array(fc), subject = subject_id, state = state, session = session))\n"
   ]
  },
  {
   "cell_type": "code",
   "execution_count": 69,
   "metadata": {},
   "outputs": [],
   "source": [
    "regvals = np.array([1000])#0.01, 0.1, 1, 10 ])\n",
    "trt = tsa.test_retest(FCs)\n",
    "\n",
    "for r in regvals:\n",
    "    score = trt.ts_test_retest(regvals = np.array([r]))#, refinv = 'logm')\n",
    "    #score_classic = trt.classic_test_retest()\n",
    "    #print('tangent space score = ' + str(score) + ', non-tangent space score = ' + str(score_classic))"
   ]
  }
 ],
 "metadata": {
  "kernelspec": {
   "display_name": "base",
   "language": "python",
   "name": "python3"
  },
  "language_info": {
   "codemirror_mode": {
    "name": "ipython",
    "version": 3
   },
   "file_extension": ".py",
   "mimetype": "text/x-python",
   "name": "python",
   "nbconvert_exporter": "python",
   "pygments_lexer": "ipython3",
   "version": "3.9.12"
  }
 },
 "nbformat": 4,
 "nbformat_minor": 2
}
